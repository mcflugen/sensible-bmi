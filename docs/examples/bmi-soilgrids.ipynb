{
 "cells": [
  {
   "cell_type": "markdown",
   "metadata": {},
   "source": [
    "<img src=\"https://github.com/gantian127/soilgrids/blob/master/docs/source/_static/soilgrids_logo.png?raw=true\" width='600' align='center'></a>"
   ]
  },
  {
   "cell_type": "markdown",
   "metadata": {},
   "source": [
    "# SoilGrids\n",
    "\n",
    "## Introduction\n"
   ]
  },
  {
   "cell_type": "markdown",
   "metadata": {},
   "source": [
    "The *soilgrids* package provides a set of functions that allows downloading of the global gridded soil information from [SoilGrids](https://www.isric.org/explore/soilgrids), a system for global digital soil mapping to map the spatial distribution of soil properties across the globe. \n",
    "\n",
    "soilgrids package also includes a Basic Model Interface ([BMI](https://bmi.readthedocs.io/en/latest/)), which converts the SoilGrids dataset into a reusable, plug-and-play data component for [PyMT](https://pymt.readthedocs.io/en/latest/?badge=latest) modeling framework developed by Community Surface Dynamics Modeling System ([CSDMS](https://csdms.colorado.edu/wiki/Main_Page)). \n",
    "\n",
    "\n",
    "To install soilgrids package, please follow the instructions [here](https://github.com/gantian127/soilgrids#install-package)."
   ]
  },
  {
   "cell_type": "markdown",
   "metadata": {},
   "source": [
    "## Use the (sensible) BmiSoilGrids class to download data"
   ]
  },
  {
   "cell_type": "markdown",
   "metadata": {},
   "source": [
    "Import BmiSoilGrids class and instantiate it. A configuration file (yaml file) is required to provide the parameter settings for data download. An example configure_file.yaml file is provided in the same folder with this Jupyter Notebook file. "
   ]
  },
  {
   "cell_type": "code",
   "execution_count": null,
   "metadata": {},
   "outputs": [],
   "source": [
    "import matplotlib.pyplot as plt\n",
    "from soilgrids import BmiSoilGrids\n",
    "\n",
    "from sensible_bmi.sensible_bmi import make_sensible\n",
    "\n",
    "BmiSoilGrids = make_sensible(\"BmiSoilGrids\", BmiSoilGrids)\n",
    "\n",
    "# initiate a data component\n",
    "data_comp = BmiSoilGrids()\n",
    "data_comp.initialize(\"soilgrids.yaml\")"
   ]
  },
  {
   "cell_type": "markdown",
   "metadata": {},
   "source": [
    "Use variable related methods from BmiSoilGrids class to check the variable information of the soil dataset. "
   ]
  },
  {
   "cell_type": "code",
   "execution_count": null,
   "metadata": {},
   "outputs": [],
   "source": [
    "# get variable info\n",
    "\n",
    "for name in data_comp.var:\n",
    "    print(f\"{name=}\")\n",
    "    print(f\"{data_comp.var[name].units=}\")\n",
    "    print(f\"{data_comp.var[name].location=}\")\n",
    "    print(f\"{data_comp.var[name].type=}\")\n",
    "    print(f\"{data_comp.var[name].grid=}\")"
   ]
  },
  {
   "cell_type": "markdown",
   "metadata": {},
   "source": [
    "Use grid related methods of BmiSoilGrids class to check the grid information of the soil dataset. "
   ]
  },
  {
   "cell_type": "code",
   "execution_count": null,
   "metadata": {},
   "outputs": [],
   "source": [
    "# get variable grid info\n",
    "\n",
    "print(data_comp.grid[0])"
   ]
  },
  {
   "cell_type": "markdown",
   "metadata": {},
   "source": [
    "Use `get` method to get the data as a numpy array. "
   ]
  },
  {
   "cell_type": "code",
   "execution_count": null,
   "metadata": {},
   "outputs": [],
   "source": [
    "# get variable data\n",
    "data = data_comp.var[\"Soil pH in H2O\"].get()\n",
    "\n",
    "data.shape = data_comp.grid[0].shape"
   ]
  },
  {
   "cell_type": "code",
   "execution_count": null,
   "metadata": {},
   "outputs": [],
   "source": [
    "# get X, Y extent for plot\n",
    "\n",
    "min_y, min_x = data_comp.grid[0].origin\n",
    "max_y = min_y + data_comp.grid[0].spacing[0] * (data_comp.grid[0].shape[0] - 1)\n",
    "max_x = min_x + data_comp.grid[0].spacing[1] * (data_comp.grid[0].shape[1] - 1)\n",
    "dy = data_comp.grid[0].spacing[0] / 2\n",
    "dx = data_comp.grid[0].spacing[1] / 2\n",
    "extent = [min_x - dx, max_x + dx, min_y - dy, max_y + dy]\n",
    "\n",
    "# plot data\n",
    "fig, ax = plt.subplots(1, 1, figsize=(9, 5))\n",
    "im = ax.imshow(data, extent=extent, vmin=0)\n",
    "fig.colorbar(im)\n",
    "plt.xlabel(\"X\")\n",
    "plt.ylabel(\"Y\")\n",
    "plt.title(\"Mean pH between 0 and 5 cm soil depth in Senegal\")"
   ]
  },
  {
   "cell_type": "markdown",
   "metadata": {},
   "source": [
    "Complete the example by finalizing the component. finalize( ) method performs tasks that take place after using the data component, such as deallocating memory and closing files."
   ]
  },
  {
   "cell_type": "code",
   "execution_count": null,
   "metadata": {},
   "outputs": [],
   "source": [
    "data_comp.finalize()"
   ]
  }
 ],
 "metadata": {
  "kernelspec": {
   "display_name": "Python 3 (ipykernel)",
   "language": "python",
   "name": "python3"
  },
  "language_info": {
   "codemirror_mode": {
    "name": "ipython",
    "version": 3
   },
   "file_extension": ".py",
   "mimetype": "text/x-python",
   "name": "python",
   "nbconvert_exporter": "python",
   "pygments_lexer": "ipython3",
   "version": "3.12.0"
  }
 },
 "nbformat": 4,
 "nbformat_minor": 4
}
